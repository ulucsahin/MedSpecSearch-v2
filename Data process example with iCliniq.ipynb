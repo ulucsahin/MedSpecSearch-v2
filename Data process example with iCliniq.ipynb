{
 "cells": [
  {
   "cell_type": "code",
   "execution_count": 1,
   "metadata": {},
   "outputs": [
    {
     "name": "stdout",
     "output_type": "stream",
     "text": [
      "{'Dermatology': 'Deri ve Zührevi Hastalıkları (Cildiye)', 'Internal Medicine': 'İç Hastalıkları (Dahiliye)', 'Neurology': 'Nöroloji', 'Obstetrics & Gynecology': 'Kadın Hastalıkları ve Doğum', 'Ophthalmology': 'Göz Hastalıkları', 'Orthopaedic Surgery': 'Ortopedi ve Travmatoloji', 'Otolaryngology': 'Kulak Burun Boğaz Hastalıkları', 'Pediatrics': 'Çocuk Sağlığı ve Hastalıkları', 'Psychiatry': 'Ruh Sağlığı ve Hastalıkları', 'Radiology-Diagnostic': 'Radyoloji', 'Surgery-General': 'Genel Cerrahi', 'Urology': 'Üroloji'}\n"
     ]
    }
   ],
   "source": [
    "import pandas as pd\n",
    "import numpy as np\n",
    "import DataLoader\n",
    "import utility\n",
    "from sklearn.model_selection import train_test_split\n",
    "from collections import Counter\n",
    "import random"
   ]
  },
  {
   "cell_type": "code",
   "execution_count": 2,
   "metadata": {},
   "outputs": [],
   "source": [
    "# this is the class dict that we use for iCliniq data classes\n",
    "class_dict = {'Dermatology': 0,\n",
    " 'Internal Medicine': 1,\n",
    " 'Neurology': 2,\n",
    " 'Obstetrics & Gynecology': 3,\n",
    " 'Ophthalmology': 4,\n",
    " 'Orthopaedic Surgery': 5,\n",
    " 'Otolaryngology': 6,\n",
    " 'Pediatrics': 7,\n",
    " 'Psychiatry': 8,\n",
    " 'Radiology-Diagnostic': 9,\n",
    " 'Surgery-General': 10,\n",
    " 'Urology': 11}"
   ]
  },
  {
   "cell_type": "code",
   "execution_count": 3,
   "metadata": {},
   "outputs": [],
   "source": [
    "def preprocess(data):\n",
    "    # we apply a small preprocessing along with masterPreprocessor\n",
    "    data = data.replace(\"<p>\", \"\")\n",
    "    data = data.replace(\"</p>\", \"\")\n",
    "    data = data.replace(\"<strong>\", \"\")\n",
    "    data = data.replace(\"</strong>\", \"\")\n",
    "    \n",
    "    return data"
   ]
  },
  {
   "cell_type": "code",
   "execution_count": 5,
   "metadata": {},
   "outputs": [],
   "source": [
    "# read data\n",
    "data_df = pd.read_csv(\"data//icliniq//iCliniq_14K//data.csv\", encoding=\"utf8\")\n",
    "\n",
    "# remove bad data\n",
    "# there are some data that includes unwanted characters\n",
    "# we remove them in the following lines\n",
    "indexes_to_remove = []\n",
    "for i,item in enumerate(data_df[\"category2\"]):\n",
    "    if(item == \"category2\" or \"â\\x80\" in item):\n",
    "        indexes_to_remove.append(i)\n",
    "\n",
    "data_df.drop(indexes_to_remove, inplace=True)\n",
    "data_df.index = range(len(data_df))\n",
    "\n",
    "# read matching data\n",
    "# used for matching classes\n",
    "# normally iCliniq has a lot of classes\n",
    "# we match them to more general main categories by using \"iCliniq_class_match.xlsx\"\n",
    "match = pd.read_excel(\"data//icliniq//iCliniq_class_match.xlsx\")\n",
    "match_dict = {}\n",
    "for i in range(len(match)):\n",
    "    match_dict[match[\"from\"][i]] = match[\"to\"][i]"
   ]
  },
  {
   "cell_type": "code",
   "execution_count": 6,
   "metadata": {},
   "outputs": [],
   "source": [
    "data = data_df[\"question\"]\n",
    "target = data_df[\"category2\"]\n",
    "\n",
    "# match classes and remove those that can't be matched\n",
    "# there are some data that can't be matched, we remove them\n",
    "new_data = []\n",
    "new_target = []\n",
    "for question, category in zip(data, target):\n",
    "    category = category.lower()[0:-1] \n",
    "    if category in match_dict:\n",
    "        new_data.append(question)\n",
    "        new_target.append(match_dict[category])\n",
    "        \n",
    "data = np.array(new_data.copy())\n",
    "target = np.array(new_target.copy())\n",
    "del new_data\n",
    "del new_target\n",
    "\n",
    "data = np.array([preprocess(a) for a in data])\n",
    "data = np.hstack((data.reshape(-1,1),target.reshape(-1,1)))"
   ]
  },
  {
   "cell_type": "code",
   "execution_count": 7,
   "metadata": {},
   "outputs": [],
   "source": [
    "raw_data = data[:,0].copy()\n",
    "raw_target = data[:,1].copy()"
   ]
  },
  {
   "cell_type": "code",
   "execution_count": null,
   "metadata": {},
   "outputs": [
    {
     "name": "stdout",
     "output_type": "stream",
     "text": [
      "Outputs converted to numerical forms\n"
     ]
    }
   ],
   "source": [
    "# we preprocess data using masterPreprocessor\n",
    "data, target, _ = DataLoader.DataHandler.masterPreprocessor(data,shuffle=False,classDict=class_dict, maxLength=128)"
   ]
  },
  {
   "cell_type": "code",
   "execution_count": null,
   "metadata": {},
   "outputs": [],
   "source": [
    "# we shuffle data so it is not ordered\n",
    "all_data = list(zip(data,target,raw_data,raw_target))\n",
    "random.shuffle(all_data)\n",
    "data, target, raw_data, raw_target = zip(*all_data)"
   ]
  },
  {
   "cell_type": "code",
   "execution_count": null,
   "metadata": {},
   "outputs": [],
   "source": [
    "# display test and train data size 0.2 - 0.8\n",
    "test_size = len(data) // 5\n",
    "print(test_size)\n",
    "train_size = len(data) - test_size\n",
    "print(train_size)"
   ]
  },
  {
   "cell_type": "code",
   "execution_count": null,
   "metadata": {},
   "outputs": [],
   "source": [
    "# Split data 0.8 to 0.2\n",
    "train_data = data[0:train_size]\n",
    "train_target = target[0:train_size]\n",
    "test_data = data[train_size:]\n",
    "test_target = target[train_size:]"
   ]
  },
  {
   "cell_type": "code",
   "execution_count": null,
   "metadata": {},
   "outputs": [],
   "source": [
    "# save data, this data is ready for neural network\n",
    "np.save(\"data//icliniq//iCliniq_14K//icliniq_14k_train_questions\", train_data)\n",
    "np.save(\"data//icliniq//iCliniq_14K//icliniq_14k_train_target\", train_target)\n",
    "np.save(\"data//icliniq//iCliniq_14K//icliniq_14k_test_questions\", test_data)\n",
    "np.save(\"data//icliniq//iCliniq_14K//icliniq_14k_test_target\", test_target)"
   ]
  },
  {
   "cell_type": "code",
   "execution_count": null,
   "metadata": {},
   "outputs": [],
   "source": []
  }
 ],
 "metadata": {
  "kernelspec": {
   "display_name": "Python 3",
   "language": "python",
   "name": "python3"
  },
  "language_info": {
   "codemirror_mode": {
    "name": "ipython",
    "version": 3
   },
   "file_extension": ".py",
   "mimetype": "text/x-python",
   "name": "python",
   "nbconvert_exporter": "python",
   "pygments_lexer": "ipython3",
   "version": "3.6.5"
  }
 },
 "nbformat": 4,
 "nbformat_minor": 2
}
