{
 "cells": [
  {
   "cell_type": "markdown",
   "metadata": {},
   "source": [
    "This notebook shows how to use hospitals.py to get suitable hospitals in given region for a given medical specialty."
   ]
  },
  {
   "cell_type": "code",
   "execution_count": 4,
   "metadata": {},
   "outputs": [],
   "source": [
    "import hospitals"
   ]
  },
  {
   "cell_type": "markdown",
   "metadata": {},
   "source": [
    "# Example Usage"
   ]
  },
  {
   "cell_type": "code",
   "execution_count": 5,
   "metadata": {},
   "outputs": [],
   "source": [
    "hospital_list_for_patient = hospitals.get_suitable_hospitals(\"psychiatry\",\"anadolu\")"
   ]
  },
  {
   "cell_type": "code",
   "execution_count": 6,
   "metadata": {
    "scrolled": false
   },
   "outputs": [
    {
     "data": {
      "text/plain": [
       "[['İSTANBUL- (ANADOLU)- BEYKOZ DEVLET HASTANESİ',\n",
       "  '41.111594',\n",
       "  '29.086298',\n",
       "  False,\n",
       "  ['AYŞE SELBES', 'MERT ALEV', 'NASİBE ÜNSALAN']],\n",
       " ['İSTANBUL- (ANADOLU)- HAYDARPAŞA NUMUNE EĞİTİM VE ARAŞTIRMA HASTANESİ',\n",
       "  '41.004504',\n",
       "  '29.025675',\n",
       "  False,\n",
       "  ['ANIL GÜNDÜZ',\n",
       "   'GONCA ERKIRAN',\n",
       "   'HATİCE GÖNÜL',\n",
       "   'MECİT ÇALIŞKAN',\n",
       "   'MELİHA ZENGİN EROĞLU',\n",
       "   'NESLİHAN YAZICI',\n",
       "   'SERVET EBRİNÇ']],\n",
       " ['İSTANBUL- (ANADOLU)- KADIKÖY- ERENKÖY RUH VE SİNİR HASTALIKLARI EĞİTİM VE ARAŞTIRMA HASTANESİ',\n",
       "  '40.975237',\n",
       "  '29.088164',\n",
       "  False,\n",
       "  ['ALPER BAŞ',\n",
       "   'BÜLENT KADRİ GÜLTEKİN',\n",
       "   'DİCLE BİLGE',\n",
       "   'ENGİN EMREM BEŞTEPE',\n",
       "   'GÖKÇE ELİF SARIDOĞAN',\n",
       "   'HALUK USTA',\n",
       "   'HÜSEYİN GÜLEÇ',\n",
       "   'MEHMET FATİH ÜSTÜNDAĞ',\n",
       "   'NESLİHAN AKKİŞİ KUMSAR',\n",
       "   'ONUR DURMAZ',\n",
       "   'YUSUF ÖZAY ÖZDEMİR',\n",
       "   'ZELİHA YAŞA',\n",
       "   'İBRAHİM FUAT AKGÜL']],\n",
       " ['İSTANBUL- (ANADOLU)- KARTAL- DR. LÜTFİ KIRDAR EĞİTİM VE ARAŞTIRMA HASTANESİ',\n",
       "  '40.916422',\n",
       "  '29.173069',\n",
       "  False,\n",
       "  ['AVA ŞİRİN ÖZGÜN', 'LEVENT TURHAN']],\n",
       " ['İSTANBUL- (ANADOLU)- MALTEPE DEVLET HASTANESİ',\n",
       "  '40.937144',\n",
       "  '29.134962',\n",
       "  False,\n",
       "  ['SEMA MOR']],\n",
       " ['İSTANBUL- (ANADOLU)- PENDİK DEVLET HASTANESİ',\n",
       "  '40.877542',\n",
       "  '29.22937',\n",
       "  False,\n",
       "  ['YASEMİN UZ']],\n",
       " ['İSTANBUL- (ANADOLU)- SÜREYYAPAŞA GÖĞÜS HASTALIKLARI VE GÖĞÜS CERRAHİSİ EĞİTİM VE ARAŞTIRMA HASTANESİ',\n",
       "  '40.95151',\n",
       "  '29.143391',\n",
       "  False,\n",
       "  ['ÜLKEM ANGIN ÖZTÜRK']],\n",
       " ['İSTANBUL- (ANADOLU)- T.C. SAĞLIK BAKANLIĞI-MARMARA ÜNİVERSİTESİ PENDİK EĞİTİM VE ARAŞTIRMA HASTANESİ',\n",
       "  '40.88658',\n",
       "  '29.262362',\n",
       "  False,\n",
       "  ['MEHMET KEMAL KUŞCU', 'NEŞE YORGUNER', 'ÜMMÜHAN CEVİZ']],\n",
       " ['İSTANBUL- (ANADOLU)- TUZLA DEVLET HASTANESİ',\n",
       "  '40.844952',\n",
       "  '29.302315',\n",
       "  False,\n",
       "  ['ANIL TALAS', 'ESRA CEBECİ', 'MÜGE COŞKUN', 'NARİN TAN']],\n",
       " ['İSTANBUL- (ANADOLU)- ÜMRANİYE EĞİTİM VE ARAŞTIRMA HASTANESİ',\n",
       "  '41.032444',\n",
       "  '29.102071',\n",
       "  False,\n",
       "  ['DENİZ GÜNEŞ', 'FUAT TORUN', 'FİLİZ İZCİ']],\n",
       " ['İSTANBUL- (ANADOLU)- ÜSKÜDAR DEVLET HASTANESİ',\n",
       "  '41.015803',\n",
       "  '29.038443',\n",
       "  False,\n",
       "  ['SEMİHA TUFAN']],\n",
       " ['İSTANBUL-(ANADOLU)-SANCAKTEPE ŞEHİT PROF.DR.İLHAN VARANK EĞİTİM VE ARAŞTIRMA HASTANESİ',\n",
       "  '41.005401',\n",
       "  '29.104092',\n",
       "  False,\n",
       "  ['DUYGU YİĞİTTÜRK']]]"
      ]
     },
     "execution_count": 6,
     "metadata": {},
     "output_type": "execute_result"
    }
   ],
   "source": [
    "hospital_list_for_patient[0]"
   ]
  },
  {
   "cell_type": "code",
   "execution_count": 7,
   "metadata": {},
   "outputs": [
    {
     "name": "stdout",
     "output_type": "stream",
     "text": [
      "İSTANBUL- (ANADOLU)- BEYKOZ DEVLET HASTANESİ\n",
      "İSTANBUL- (ANADOLU)- HAYDARPAŞA NUMUNE EĞİTİM VE ARAŞTIRMA HASTANESİ\n",
      "İSTANBUL- (ANADOLU)- KADIKÖY- ERENKÖY RUH VE SİNİR HASTALIKLARI EĞİTİM VE ARAŞTIRMA HASTANESİ\n",
      "İSTANBUL- (ANADOLU)- KARTAL- DR. LÜTFİ KIRDAR EĞİTİM VE ARAŞTIRMA HASTANESİ\n",
      "İSTANBUL- (ANADOLU)- MALTEPE DEVLET HASTANESİ\n",
      "İSTANBUL- (ANADOLU)- PENDİK DEVLET HASTANESİ\n",
      "İSTANBUL- (ANADOLU)- SÜREYYAPAŞA GÖĞÜS HASTALIKLARI VE GÖĞÜS CERRAHİSİ EĞİTİM VE ARAŞTIRMA HASTANESİ\n",
      "İSTANBUL- (ANADOLU)- T.C. SAĞLIK BAKANLIĞI-MARMARA ÜNİVERSİTESİ PENDİK EĞİTİM VE ARAŞTIRMA HASTANESİ\n",
      "İSTANBUL- (ANADOLU)- TUZLA DEVLET HASTANESİ\n",
      "İSTANBUL- (ANADOLU)- ÜMRANİYE EĞİTİM VE ARAŞTIRMA HASTANESİ\n",
      "İSTANBUL- (ANADOLU)- ÜSKÜDAR DEVLET HASTANESİ\n",
      "İSTANBUL-(ANADOLU)-SANCAKTEPE ŞEHİT PROF.DR.İLHAN VARANK EĞİTİM VE ARAŞTIRMA HASTANESİ\n"
     ]
    }
   ],
   "source": [
    "# How to list hospitals only\n",
    "for item in hospital_list_for_patient[0]:\n",
    "    print(item[0])"
   ]
  },
  {
   "cell_type": "code",
   "execution_count": null,
   "metadata": {},
   "outputs": [],
   "source": []
  }
 ],
 "metadata": {
  "kernelspec": {
   "display_name": "Python 3",
   "language": "python",
   "name": "python3"
  },
  "language_info": {
   "codemirror_mode": {
    "name": "ipython",
    "version": 3
   },
   "file_extension": ".py",
   "mimetype": "text/x-python",
   "name": "python",
   "nbconvert_exporter": "python",
   "pygments_lexer": "ipython3",
   "version": "3.6.5"
  }
 },
 "nbformat": 4,
 "nbformat_minor": 2
}
