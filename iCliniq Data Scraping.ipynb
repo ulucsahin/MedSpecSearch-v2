{
 "cells": [
  {
   "cell_type": "code",
   "execution_count": 32,
   "metadata": {},
   "outputs": [],
   "source": [
    "from bs4 import BeautifulSoup\n",
    "from urllib import request\n",
    "import json\n",
    "import ast\n",
    "import pandas as pd\n",
    "import pickle\n",
    "import sys\n",
    "from csv import DictWriter\n",
    "import csv\n",
    "\n",
    "from collections import Counter"
   ]
  },
  {
   "cell_type": "markdown",
   "metadata": {},
   "source": [
    "### This notebook collects data from iCliniq website."
   ]
  },
  {
   "cell_type": "code",
   "execution_count": 2,
   "metadata": {},
   "outputs": [],
   "source": [
    "hdr = {'User-Agent': 'Mozilla/5.0 (X11; Linux x86_64) AppleWebKit/537.11 (KHTML, like Gecko) Chrome/23.0.1271.64 Safari/537.11',\n",
    "       'Accept': 'text/html,application/xhtml+xml,application/xml;q=0.9,*/*;q=0.8',\n",
    "       'Accept-Charset': 'ISO-8859-1,utf-8;q=0.7,*;q=0.3',\n",
    "       'Accept-Encoding': 'none',\n",
    "       'Accept-Language': 'en-US,en;q=0.8',\n",
    "       'Connection': 'keep-alive'}\n"
   ]
  },
  {
   "cell_type": "code",
   "execution_count": 3,
   "metadata": {},
   "outputs": [],
   "source": [
    "def get_info(link2):\n",
    "    pageFile = request.Request(link2, headers=hdr)\n",
    "    pageFile = request.urlopen(pageFile)\n",
    "    pageHtml = pageFile.read()\n",
    "    pageFile.close()\n",
    "    \n",
    "    try:\n",
    "        pageHtml = pageHtml.decode(\"utf-8\")\n",
    "    except:\n",
    "        try:\n",
    "            pageHtml = pageHtml.decode(\"ISO-8859-1\")\n",
    "        except:\n",
    "            return {'title': \" \", 'category1': \" \", 'category2': \" \",\n",
    "                            'category3':\" \", 'question':  \" \", 'doctorName':  \" \",\n",
    "                            'doctorProfession':  \" \", 'answers':  \" \"}\n",
    "        \n",
    "    soup = BeautifulSoup(\"\".join(pageHtml))\n",
    "\n",
    "    #sAll = soup.findAll(\"li\")\n",
    "    questionTitle = soup.find('h1', {'class': 'soft-margin'}).text[3:]\n",
    "\n",
    "    question_soup = soup.find('div', {'class':'qContent'})\n",
    "    question = question_soup.find_all('p')\n",
    "    question = ' '.join([str(que) for que in question])\n",
    "\n",
    "\n",
    "    cats_soup = soup.find('div', {'class': 'breadcrumb'})\n",
    "    cats = cats_soup.find_all('span')\n",
    "    category1 = cats[2].text[:-2]\n",
    "    category2 = cats[3].text[:-2]\n",
    "    category3 = cats[4].text[:-2]\n",
    "\n",
    "\n",
    "    doctorInfo = soup.find('div', {'class': 'col-xs-9 col-sm-10 col-md-10 col-lg-10'})\n",
    "    doctorName = doctorInfo.find_all('a')[0].text\n",
    "    doctorProfession = doctorInfo.find('span', {'style': 'font-size:80% !important; color:#b71c1c;'}).text\n",
    "\n",
    "    ansList = soup.find_all('div' , {'style': 'padding:15px 0 15px 0 !important;'})\n",
    "    answers = []\n",
    "    for ans in ansList:\n",
    "        divCount = ans.find_all('div', {'class' : 'row'})\n",
    "        raw = ans.find_all('p')\n",
    "        if len(divCount)==0:\n",
    "            answers.append(('Patient', raw))\n",
    "        else:\n",
    "            answers.append(('Doctor', raw[1:-1]))\n",
    "         \n",
    "    result = {'title': questionTitle, 'category1': category1, 'category2': category2,\n",
    "                            'category3': category3, 'question': question, 'doctorName': doctorName,\n",
    "                            'doctorProfession': doctorProfession, 'answers': answers}\n",
    "    return result"
   ]
  },
  {
   "cell_type": "code",
   "execution_count": 5,
   "metadata": {},
   "outputs": [],
   "source": [
    "def write_to_file(path, data, writer):\n",
    "    f = open(path, \"a\", encoding=\"utf8\")\n",
    "    \n",
    "    writer.writerows(data)\n",
    "    f.close()"
   ]
  },
  {
   "cell_type": "markdown",
   "metadata": {},
   "source": [
    "## Start collecting data. It will not stop until all the pages are finished. Collected data will be saved to iCliniqData.csv file (1400 pages as of january 2019)"
   ]
  },
  {
   "cell_type": "code",
   "execution_count": null,
   "metadata": {},
   "outputs": [
    {
     "name": "stdout",
     "output_type": "stream",
     "text": [
      "Page 1413 finished. Continuing.\r"
     ]
    }
   ],
   "source": [
    "results = []\n",
    "question_amount = -1\n",
    "page = 1004\n",
    "\n",
    "f = open(\"iCliniqData3.csv\", \"a\", encoding=\"utf8\")\n",
    "writer = csv.DictWriter(\n",
    "    f, fieldnames=[\"title\", \"category1\", \"category2\",\n",
    "                   \"category3\", \"question\", \n",
    "                   \"doctorName\",\"doctorProfession\", \"answers\"])\n",
    "\n",
    "writer.writeheader()\n",
    "\n",
    "while question_amount != 0: # safeguard\n",
    "    # page 0,1,2 have same data\n",
    "    page_data = []\n",
    "    site = \"https://www.icliniq.com/tools/tagLinks?page=\" + str(page)\n",
    "    req = request.Request(site, headers=hdr)\n",
    "    \n",
    "    content = request.urlopen(req)\n",
    "    content = content.read()\n",
    "    content = content.decode('utf-8')\n",
    "    content = json.loads(content)\n",
    "    \n",
    "    question_amount = content[\"found\"]\n",
    "    \n",
    "    if question_amount == 0:\n",
    "        print(\"Finished all pages.\")\n",
    "        break\n",
    "\n",
    "    for i in range(question_amount):\n",
    "        link = content[\"items\"][i][\"url\"]\n",
    "        page_data.append(get_info(link))\n",
    "    \n",
    "    write_to_file(\"iCliniqData.csv\", page_data, writer)\n",
    "#         with open(\"iCliniqData\" + str(page) + \".json\", 'w') as fout:\n",
    "#             json.dump(results, fout)\n",
    "    \n",
    "    page += 1\n",
    "    print(\"Page {} finished. Continuing.\".format(page-1), end = \"\\r\")"
   ]
  }
 ],
 "metadata": {
  "kernelspec": {
   "display_name": "Python 3",
   "language": "python",
   "name": "python3"
  },
  "language_info": {
   "codemirror_mode": {
    "name": "ipython",
    "version": 3
   },
   "file_extension": ".py",
   "mimetype": "text/x-python",
   "name": "python",
   "nbconvert_exporter": "python",
   "pygments_lexer": "ipython3",
   "version": "3.6.5"
  }
 },
 "nbformat": 4,
 "nbformat_minor": 2
}
