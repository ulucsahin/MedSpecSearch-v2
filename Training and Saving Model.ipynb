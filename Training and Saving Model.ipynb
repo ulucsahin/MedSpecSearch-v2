{
 "cells": [
  {
   "cell_type": "markdown",
   "metadata": {},
   "source": [
    "This notebook shows how each module should be used. Each method is documented and explained. Be careful that all Models, Embeddings and Data should included or it may crash or give errors.<br>\n",
    "\n",
    "Note that you do not need this notebook to use modules. This notebook is just for displaying the usage of them. To make it easier to understand.<br>\n",
    "<br><br>\n",
    "Index of this notebook:<br>\n",
    "1- Hyperparameters and initial setup <br>\n",
    "2- Loading embedding model<br>\n",
    "3- Loading preprocessed data<br>\n",
    "4- Training model (you can restore pre-trained model as well)<br>\n",
    "5- Restoring pre-trained model<br>\n",
    "6- Preparing system for for LRP<br>\n",
    "7- LRP Scores for the example in 6.<br>\n",
    "8- Removing important words according to TF-IDF (method 1)<br>\n",
    "9- Removing words uniquely (method 2)<br>\n",
    "10- Removing Sentences<br>\n",
    "11- Offering keywords to users (Method 1, better and more personal recommendations)<br>\n",
    "12- Offering keywords to users (Method 2, static method)<br>"
   ]
  },
  {
   "cell_type": "code",
   "execution_count": 1,
   "metadata": {},
   "outputs": [
    {
     "name": "stderr",
     "output_type": "stream",
     "text": [
      "C:\\P\\Anaconda3\\lib\\site-packages\\h5py\\__init__.py:36: FutureWarning: Conversion of the second argument of issubdtype from `float` to `np.floating` is deprecated. In future, it will be treated as `np.float64 == np.dtype(float).type`.\n",
      "  from ._conv import register_converters as _register_converters\n"
     ]
    },
    {
     "name": "stdout",
     "output_type": "stream",
     "text": [
      "{'Dermatology': 'Deri ve Zührevi Hastalıkları (Cildiye)', 'Internal Medicine': 'İç Hastalıkları (Dahiliye)', 'Neurology': 'Nöroloji', 'Obstetrics & Gynecology': 'Kadın Hastalıkları ve Doğum', 'Ophthalmology': 'Göz Hastalıkları', 'Orthopaedic Surgery': 'Ortopedi ve Travmatoloji', 'Otolaryngology': 'Kulak Burun Boğaz Hastalıkları', 'Pediatrics': 'Çocuk Sağlığı ve Hastalıkları', 'Psychiatry': 'Ruh Sağlığı ve Hastalıkları', 'Radiology-Diagnostic': 'Radyoloji', 'Surgery-General': 'Genel Cerrahi', 'Urology': 'Üroloji'}\n"
     ]
    }
   ],
   "source": [
    "import helper\n",
    "import EmbedHelper\n",
    "import Models\n",
    "\n",
    "import tensorflow as tf\n",
    "import numpy as np"
   ]
  },
  {
   "cell_type": "markdown",
   "metadata": {},
   "source": [
    "## 1- Hyperparameters and initial setup"
   ]
  },
  {
   "cell_type": "code",
   "execution_count": 2,
   "metadata": {},
   "outputs": [
    {
     "name": "stdout",
     "output_type": "stream",
     "text": [
      "{1: 'Fast Text', 2: 'Google News', 3: 'HealthTap', 4: 'Pubmed', 5: 'Glove', 6: 'iCliniq Trigram', 7: 'iCliniq default'}\n"
     ]
    }
   ],
   "source": [
    "embedDict = EmbedHelper.EmbeddingHandler.embedDict\n",
    "print(embedDict)\n",
    "configs = {\n",
    "    \"vectorSize\":300,\n",
    "    \"trainNewModel\":True,\n",
    "    \"dataColumn\":\"question\",\n",
    "    \"maxLength\":128,\n",
    "    \"batchSize\":8,\n",
    "    \"embeddingType\":embedDict[2],\n",
    "    \"PreEmbed\":True,\n",
    "    \"restore\":True\n",
    "}"
   ]
  },
  {
   "cell_type": "markdown",
   "metadata": {},
   "source": [
    "## 2- Loading embedding model"
   ]
  },
  {
   "cell_type": "code",
   "execution_count": 3,
   "metadata": {},
   "outputs": [
    {
     "name": "stdout",
     "output_type": "stream",
     "text": [
      "Loading Google News\n"
     ]
    }
   ],
   "source": [
    "# Load embedding model\n",
    "EmbedModel = EmbedHelper.EmbeddingHandler(configs[\"embeddingType\"], False, configs[\"vectorSize\"], \"Embeddings\")"
   ]
  },
  {
   "cell_type": "markdown",
   "metadata": {},
   "source": [
    "## 3- Loading preprocessed data"
   ]
  },
  {
   "cell_type": "code",
   "execution_count": 4,
   "metadata": {},
   "outputs": [],
   "source": [
    "# Load iCliniq Data\n",
    "trainData = np.load(\"data//icliniq//iCliniq_14K//icliniq_14k_train_questions.npy\")\n",
    "trainTarget = np.load(\"data//icliniq//iCliniq_14K//icliniq_14k_train_target.npy\")\n",
    "testData = np.load(\"data//icliniq//iCliniq_14K//icliniq_14k_test_questions.npy\")\n",
    "testTarget = np.load(\"data//icliniq//iCliniq_14K//icliniq_14k_test_target.npy\")\n",
    "\n",
    "# trainData_raw = np.load(\"data//icliniq//iCliniq_14K//icliniq_14k_train_questions_raw.npy\")\n",
    "# testData_raw = np.load(\"data//icliniq//iCliniq_14K//icliniq_14k_test_questions_raw.npy\")"
   ]
  },
  {
   "cell_type": "markdown",
   "metadata": {},
   "source": [
    "## 4- Training model "
   ]
  },
  {
   "cell_type": "code",
   "execution_count": 5,
   "metadata": {
    "scrolled": true
   },
   "outputs": [
    {
     "name": "stdout",
     "output_type": "stream",
     "text": [
      "fullvectorsize:  300\n",
      "(?, 126, 1, 250)\n",
      "WARNING:tensorflow:From C:\\Users\\aaaaaa\\Jupyter Notebook\\MedSpecSearch-v2-master\\Models.py:169: calling reduce_sum (from tensorflow.python.ops.math_ops) with keep_dims is deprecated and will be removed in a future version.\n",
      "Instructions for updating:\n",
      "keep_dims is deprecated, use keepdims instead\n",
      "Model Created.\n",
      "trainData shape :  (7903, 128)\n",
      "testData shape :  (1975, 128)\n",
      "trainTarget shape :  (7903,)\n",
      "testTarget shape :  (1975,)\n",
      "\n",
      "[Current iteration = 20 Train Acc:0.375 HT Test Acc:0 fold0Test: (0) ucAcc :0 dataRatio  :0 ]\r"
     ]
    }
   ],
   "source": [
    "# Test just for 32 iterations (for example purposes).\n",
    "sess, nnModel = helper.execute_training(False, EmbedModel, 32, trainData, trainTarget, testData, testTarget, configs, model_path=None)"
   ]
  },
  {
   "cell_type": "markdown",
   "metadata": {},
   "source": [
    "# 5- Saving trained model"
   ]
  },
  {
   "cell_type": "code",
   "execution_count": 6,
   "metadata": {},
   "outputs": [
    {
     "data": {
      "text/plain": [
       "'NNModels/test_model_name/model.ckpt'"
      ]
     },
     "execution_count": 6,
     "metadata": {},
     "output_type": "execute_result"
    }
   ],
   "source": [
    "# Specify a name and path for model.\n",
    "model_name = \"test_model_name\"\n",
    "model_path = \"NNModels/\" + model_name + \"/model.ckpt\"\n",
    "\n",
    "tf.train.Saver().save(sess, model_path)"
   ]
  },
  {
   "cell_type": "code",
   "execution_count": null,
   "metadata": {},
   "outputs": [],
   "source": []
  }
 ],
 "metadata": {
  "kernelspec": {
   "display_name": "Python 3",
   "language": "python",
   "name": "python3"
  },
  "language_info": {
   "codemirror_mode": {
    "name": "ipython",
    "version": 3
   },
   "file_extension": ".py",
   "mimetype": "text/x-python",
   "name": "python",
   "nbconvert_exporter": "python",
   "pygments_lexer": "ipython3",
   "version": "3.6.5"
  }
 },
 "nbformat": 4,
 "nbformat_minor": 2
}
